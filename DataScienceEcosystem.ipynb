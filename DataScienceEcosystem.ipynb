{
 "cells": [
  {
   "cell_type": "markdown",
   "id": "5ec0928b-6dc2-442d-9f5a-a97515805cfa",
   "metadata": {},
   "source": [
    "# Data Science Tools and Ecosystem"
   ]
  },
  {
   "cell_type": "markdown",
   "id": "d2b5b87c-3434-4122-96d6-22b2e3526db3",
   "metadata": {},
   "source": [
    "In this notebook, Data Science Tools and Ecosystem are summarized."
   ]
  },
  {
   "cell_type": "markdown",
   "id": "c108887c-b69a-4b20-a1e9-f5c7f4c85d4b",
   "metadata": {
    "tags": []
   },
   "source": [
    "Some of the popular languages that Data Scientists use are:\n",
    "1. Python\n",
    "2. R\n",
    "3. Scala"
   ]
  },
  {
   "cell_type": "markdown",
   "id": "93304023-7e26-401c-b872-6f48cc973ed2",
   "metadata": {},
   "source": [
    "Some of the commonly used libraries used by Data Scientists include:\n",
    "1. Numpy\n",
    "2. Pandas\n",
    "3. Seaborn"
   ]
  },
  {
   "cell_type": "markdown",
   "id": "3cff18d7-dc1e-4dc9-baac-11ee9aa97c34",
   "metadata": {},
   "source": [
    "Data Science Tools |\n",
    "--------------------\n",
    "Jupyter Notebook   |\n",
    "R Studio           |\n",
    "Spyder             |"
   ]
  },
  {
   "cell_type": "markdown",
   "id": "29bf4012-c2ae-45d6-9ecc-cbb1b915d0cd",
   "metadata": {},
   "source": [
    "### Below are a few examples of evaluating arithmetic expressions in Python"
   ]
  },
  {
   "cell_type": "code",
   "execution_count": 11,
   "id": "d06f4e31-2b44-4c1a-9015-ab78b93faa8f",
   "metadata": {
    "tags": []
   },
   "outputs": [
    {
     "data": {
      "text/plain": [
       "17"
      ]
     },
     "execution_count": 11,
     "metadata": {},
     "output_type": "execute_result"
    }
   ],
   "source": [
    "# This a simple arithmetic expression to mutiply then add integers\n",
    "(3*4)+5"
   ]
  },
  {
   "cell_type": "code",
   "execution_count": 12,
   "id": "a282590c-249e-463b-9264-24cd1a6afe1a",
   "metadata": {
    "tags": []
   },
   "outputs": [
    {
     "name": "stdout",
     "output_type": "stream",
     "text": [
      "200 minutes is equal to 3.33 hours\n"
     ]
    }
   ],
   "source": [
    "#This will convert 200 minutes to hours by diving by 60\n",
    "minutes = 200\n",
    "hours = minutes / 60\n",
    "print(f\"{minutes} minutes is equal to {hours:.2f} hours\")"
   ]
  },
  {
   "cell_type": "markdown",
   "id": "98228bd7-79df-40da-99ef-f1091693ed59",
   "metadata": {},
   "source": [
    "**Objectives:**"
   ]
  },
  {
   "cell_type": "markdown",
   "id": "579394d2-5a4f-43a8-9e90-888693424b44",
   "metadata": {},
   "source": [
    "List popular languages for Data Science: \n",
    "* Python\n",
    "* R\n",
    "* Scala\n",
    "* SQL\n",
    "* Julia"
   ]
  },
  {
   "cell_type": "markdown",
   "id": "7feb5a82-0bad-48fd-a635-d54427a97a3f",
   "metadata": {},
   "source": [
    "## Author\n",
    "Ang Shi Yan"
   ]
  },
  {
   "cell_type": "code",
   "execution_count": null,
   "id": "2652fda7-34db-4b19-bde5-2199e759f50c",
   "metadata": {},
   "outputs": [],
   "source": []
  }
 ],
 "metadata": {
  "kernelspec": {
   "display_name": "Python",
   "language": "python",
   "name": "conda-env-python-py"
  },
  "language_info": {
   "codemirror_mode": {
    "name": "ipython",
    "version": 3
   },
   "file_extension": ".py",
   "mimetype": "text/x-python",
   "name": "python",
   "nbconvert_exporter": "python",
   "pygments_lexer": "ipython3",
   "version": "3.7.12"
  }
 },
 "nbformat": 4,
 "nbformat_minor": 5
}
